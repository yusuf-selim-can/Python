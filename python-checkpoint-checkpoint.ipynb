{
 "cells": [
  {
   "cell_type": "code",
   "execution_count": 2,
   "metadata": {},
   "outputs": [],
   "source": [
    "import turtle\n",
    "\n",
    "width=100\n",
    "turtle.speed(10)\n",
    "\n",
    "for i in range(2):\n",
    "    turtle.fd(width)\n",
    "    turtle.lt(90)\n",
    "    turtle.fd(width*2)\n",
    "    turtle.lt(90)\n",
    "\n",
    "turtle.done()"
   ]
  },
  {
   "cell_type": "code",
   "execution_count": 5,
   "metadata": {},
   "outputs": [],
   "source": [
    "import turtle\n",
    "sides=4\n",
    "turtle.speed(10)\n",
    "for i in range(sides):\n",
    "    turtle.fd(150)\n",
    "    turtle.lt(360/4)\n",
    "    \n",
    "turtle.done()"
   ]
  },
  {
   "cell_type": "code",
   "execution_count": 1,
   "metadata": {},
   "outputs": [],
   "source": [
    "import turtle\n",
    "sides=6\n",
    "turtle.speed(10)\n",
    "for i in range(sides):\n",
    "    turtle.fd(150)\n",
    "    turtle.lt(360/sides)\n",
    "\n",
    "\n",
    "\n",
    "turtle.done()"
   ]
  },
  {
   "cell_type": "code",
   "execution_count": 3,
   "metadata": {},
   "outputs": [],
   "source": [
    "import turtle\n",
    "sides=5\n",
    "turtle.speed(10)\n",
    "for i in range(sides):\n",
    "    turtle.fd(150)\n",
    "    turtle.lt(72)\n",
    "\n",
    "\n",
    "\n",
    "turtle.done()"
   ]
  },
  {
   "cell_type": "code",
   "execution_count": 7,
   "metadata": {},
   "outputs": [],
   "source": [
    "import turtle\n",
    "sides=4\n",
    "turtle.speed(10)\n",
    "for i in range(sides):\n",
    "    turtle.fd(300/sides)\n",
    "    turtle.lt(360/sides)\n",
    "\n",
    "\n",
    "\n",
    "turtle.done()"
   ]
  },
  {
   "cell_type": "code",
   "execution_count": 12,
   "metadata": {},
   "outputs": [],
   "source": [
    "import turtle\n",
    "sides=4\n",
    "turtle.speed(10)\n",
    "for i in range(sides):\n",
    "    for i in range(sides):\n",
    "        turtle.fd(100)\n",
    "        turtle.lt(360/sides)\n",
    "    turtle.fd(100)\n",
    "    turtle.rt(360/sides)\n",
    "\n",
    "\n",
    "\n",
    "turtle.done()"
   ]
  },
  {
   "cell_type": "code",
   "execution_count": 14,
   "metadata": {},
   "outputs": [],
   "source": [
    "import turtle\n",
    "length=75\n",
    "sides=5\n",
    "turtle.speed(10)\n",
    "for i in range(sides):\n",
    "    for i in range(sides):\n",
    "        turtle.fd(length)\n",
    "        turtle.lt(360/sides)\n",
    "    turtle.fd(length)\n",
    "    turtle.rt(360/sides)\n",
    "    \n",
    "turtle.done()"
   ]
  },
  {
   "cell_type": "code",
   "execution_count": null,
   "metadata": {},
   "outputs": [],
   "source": [
    "import turtle\n",
    "sides=8\n",
    "length=300/sides\n",
    "turtle.speed(10)\n",
    "for i in range(sides):\n",
    "    turtle.fd(length)\n",
    "    turtle.lt(360/sides)\n",
    "    for i in range(sides):\n",
    "        turtle.fd(length)\n",
    "        turtle.rt(360/sides)\n",
    "    \n",
    "turtle.done()"
   ]
  },
  {
   "cell_type": "code",
   "execution_count": 22,
   "metadata": {},
   "outputs": [],
   "source": [
    "import turtle\n",
    "turtle.speed(10)\n",
    "for i in range(3):\n",
    "    turtle.fd(50)\n",
    "    turtle.lt(120)\n",
    "\n",
    "turtle.done()"
   ]
  },
  {
   "cell_type": "code",
   "execution_count": 31,
   "metadata": {},
   "outputs": [],
   "source": [
    "import turtle\n",
    "turtle.speed(10)\n",
    "for i in range(50,100,10):\n",
    "    for j in range(3):\n",
    "        turtle.fd(i)\n",
    "        turtle.lt(120)\n",
    "\n",
    "turtle.done()"
   ]
  }
 ],
 "metadata": {
  "kernelspec": {
   "display_name": "Python 3",
   "language": "python",
   "name": "python3"
  },
  "language_info": {
   "codemirror_mode": {
    "name": "ipython",
    "version": 3
   },
   "file_extension": ".py",
   "mimetype": "text/x-python",
   "name": "python",
   "nbconvert_exporter": "python",
   "pygments_lexer": "ipython3",
   "version": "3.7.1"
  }
 },
 "nbformat": 4,
 "nbformat_minor": 2
}

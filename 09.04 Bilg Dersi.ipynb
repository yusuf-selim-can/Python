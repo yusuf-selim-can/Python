{
 "cells": [
  {
   "cell_type": "code",
   "execution_count": 2,
   "metadata": {},
   "outputs": [
    {
     "name": "stdout",
     "output_type": "stream",
     "text": [
      "kenar giriniz5\n",
      "25\n"
     ]
    }
   ],
   "source": [
    "def alan(x):\n",
    "    alan= x*x\n",
    "    return alan\n",
    "kenar= int(input(\"kenar giriniz\"))\n",
    "print(alan(kenar))"
   ]
  },
  {
   "cell_type": "code",
   "execution_count": 5,
   "metadata": {},
   "outputs": [
    {
     "name": "stdout",
     "output_type": "stream",
     "text": [
      "Sayı giriniz5\n",
      "5 4 3 2 1 "
     ]
    }
   ],
   "source": [
    "def geri_say(x):\n",
    "    for i in range(x,0,-1):\n",
    "        print(i, end=\" \")\n",
    "y = int(input(\"Sayı giriniz\"))\n",
    "geri_say(y)"
   ]
  },
  {
   "cell_type": "code",
   "execution_count": null,
   "metadata": {},
   "outputs": [],
   "source": []
  }
 ],
 "metadata": {
  "kernelspec": {
   "display_name": "Python 3",
   "language": "python",
   "name": "python3"
  },
  "language_info": {
   "codemirror_mode": {
    "name": "ipython",
    "version": 3
   },
   "file_extension": ".py",
   "mimetype": "text/x-python",
   "name": "python",
   "nbconvert_exporter": "python",
   "pygments_lexer": "ipython3",
   "version": "3.8.5"
  }
 },
 "nbformat": 4,
 "nbformat_minor": 4
}

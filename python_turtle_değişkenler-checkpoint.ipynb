{
 "cells": [
  {
   "cell_type": "code",
   "execution_count": 11,
   "metadata": {},
   "outputs": [],
   "source": [
    "import turtle\n",
    "turtle.speed(10)\n",
    "turtle.lt(90)\n",
    "for i in range(4):\n",
    "    for i in range(4):\n",
    "        for i in range(60):\n",
    "            turtle.fd(1)\n",
    "            turtle.rt(3)\n",
    "        for i in range(60):\n",
    "            turtle.fd(1)\n",
    "            turtle.lt(3)\n",
    "    for i in range(30):\n",
    "            turtle.fd(1)\n",
    "            turtle.lt(3)\n",
    "turtle.done()\n",
    "    "
   ]
  },
  {
   "cell_type": "code",
   "execution_count": 17,
   "metadata": {},
   "outputs": [],
   "source": [
    "import turtle\n",
    "for i in range(3):\n",
    "    turtle.fd(100)\n",
    "    turtle.lt(120)\n",
    "\n",
    "\n",
    "turtle.done()"
   ]
  },
  {
   "cell_type": "code",
   "execution_count": 36,
   "metadata": {},
   "outputs": [],
   "source": [
    "length=100"
   ]
  },
  {
   "cell_type": "code",
   "execution_count": 28,
   "metadata": {},
   "outputs": [],
   "source": [
    "import turtle\n",
    "turtle.lt(60)\n",
    "for i in range(3):\n",
    "    turtle.fd(length)\n",
    "    turtle.rt(120)\n",
    "    \n",
    "turtle.done()"
   ]
  },
  {
   "cell_type": "code",
   "execution_count": 52,
   "metadata": {},
   "outputs": [],
   "source": [
    "import turtle\n",
    "\n",
    "for i in range(6):\n",
    "    for i in range(6):\n",
    "        turtle.fd(length)\n",
    "        turtle.lt(60)\n",
    "    turtle.lt(60)\n",
    "turtle.done()"
   ]
  },
  {
   "cell_type": "code",
   "execution_count": 50,
   "metadata": {},
   "outputs": [],
   "source": [
    "import turtle\n",
    "\n",
    "for i in range(5):\n",
    "    for i in range(6):\n",
    "        turtle.fd(length)\n",
    "        turtle.lt(72)\n",
    "    turtle.fd(length)\n",
    "turtle.done()"
   ]
  },
  {
   "cell_type": "code",
   "execution_count": 39,
   "metadata": {},
   "outputs": [],
   "source": [
    "width=100"
   ]
  },
  {
   "cell_type": "code",
   "execution_count": 41,
   "metadata": {},
   "outputs": [],
   "source": [
    "import turtle\n",
    "turtle.speed(10)\n",
    "\n",
    "for i in range(2):\n",
    "    turtle.fd(width)\n",
    "    turtle.lt(90)\n",
    "    turtle.fd(width*2)\n",
    "    turtle.lt(90)\n",
    "turtle.done()"
   ]
  },
  {
   "cell_type": "code",
   "execution_count": 54,
   "metadata": {},
   "outputs": [],
   "source": [
    "sides=4"
   ]
  },
  {
   "cell_type": "code",
   "execution_count": 47,
   "metadata": {},
   "outputs": [],
   "source": [
    "import turtle\n",
    "for i in range(sides):\n",
    "    turtle.fd(150)\n",
    "    turtle.lt(90)\n",
    "    \n",
    "turtle.done()"
   ]
  }
 ],
 "metadata": {
  "kernelspec": {
   "display_name": "Python 3",
   "language": "python",
   "name": "python3"
  },
  "language_info": {
   "codemirror_mode": {
    "name": "ipython",
    "version": 3
   },
   "file_extension": ".py",
   "mimetype": "text/x-python",
   "name": "python",
   "nbconvert_exporter": "python",
   "pygments_lexer": "ipython3",
   "version": "3.7.3"
  }
 },
 "nbformat": 4,
 "nbformat_minor": 2
}

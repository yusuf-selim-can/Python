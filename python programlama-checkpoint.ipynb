{
 "cells": [
  {
   "cell_type": "markdown",
   "metadata": {},
   "source": [
    "50000'e kadar olan çift ve tek sayıların ayrı toplamı"
   ]
  },
  {
   "cell_type": "code",
   "execution_count": 6,
   "metadata": {},
   "outputs": [
    {
     "name": "stdout",
     "output_type": "stream",
     "text": [
      "6247500\n",
      "6250000\n"
     ]
    }
   ],
   "source": [
    "tektoplam = 0\n",
    "cifttoplam = 0\n",
    "for i in range(0,5000):\n",
    "    if i%2==0:\n",
    "        cifttoplam+=i\n",
    "    else: \n",
    "        tektoplam+=i\n",
    "print(cifttoplam)\n",
    "print(tektoplam)"
   ]
  },
  {
   "cell_type": "markdown",
   "metadata": {},
   "source": [
    "Ritmik Sayılar Tablosu"
   ]
  },
  {
   "cell_type": "code",
   "execution_count": 30,
   "metadata": {
    "scrolled": true
   },
   "outputs": [
    {
     "name": "stdout",
     "output_type": "stream",
     "text": [
      "2 4 6 8 10 12 14 16 18 20 22 24 26 28 30 32 34 36 38 40 42 44 46 48 50 52 54 56 58 60 62 64 66 68 70 72 74 76 78 80 82 84 86 88 90 92 94 96 98 100 \n",
      "\n",
      "3 6 9 12 15 18 21 24 27 30 33 36 39 42 45 48 51 54 57 60 63 66 69 72 75 78 81 84 87 90 93 96 99 \n",
      "\n",
      "4 8 12 16 20 24 28 32 36 40 44 48 52 56 60 64 68 72 76 80 84 88 92 96 100 \n",
      "\n",
      "5 10 15 20 25 30 35 40 45 50 55 60 65 70 75 80 85 90 95 100 \n",
      "\n",
      "6 12 18 24 30 36 42 48 54 60 66 72 78 84 90 96 \n",
      "\n",
      "7 14 21 28 35 42 49 56 63 70 77 84 91 98 \n",
      "\n",
      "8 16 24 32 40 48 56 64 72 80 88 96 \n",
      "\n",
      "9 18 27 36 45 54 63 72 81 90 99 "
     ]
    }
   ],
   "source": [
    "ikilik=0\n",
    "üçlük=0\n",
    "dörtlük=0\n",
    "beşlik=0\n",
    "altılık=0\n",
    "yedilik=0\n",
    "sekizlik=0\n",
    "dokuzluk=0\n",
    "for i in range(50):\n",
    "    ikilik+=2\n",
    "    print(ikilik,end=' ')\n",
    "print(\"\\n\")\n",
    "for i in range(33):\n",
    "    üçlük+=3\n",
    "    print(üçlük,end=' ')\n",
    "print(\"\\n\")\n",
    "for i in range(25):    \n",
    "    dörtlük+=4\n",
    "    print(dörtlük,end=' ')\n",
    "print(\"\\n\")\n",
    "for i in range(20):\n",
    "    beşlik+=5\n",
    "    print(beşlik,end=' ')\n",
    "print(\"\\n\")\n",
    "for i in range(16):\n",
    "    altılık+=6\n",
    "    print(altılık,end=' ')\n",
    "print(\"\\n\")\n",
    "for i in range(14):\n",
    "    yedilik+=7\n",
    "    print(yedilik,end=' ')\n",
    "print(\"\\n\")\n",
    "for i in range(12):\n",
    "    sekizlik+=8\n",
    "    print(sekizlik,end=' ')\n",
    "print(\"\\n\")\n",
    "for i in range(11):\n",
    "    dokuzluk+=9\n",
    "    print(dokuzluk,end=' ')\n",
    "\n",
    "\n",
    "    "
   ]
  }
 ],
 "metadata": {
  "kernelspec": {
   "display_name": "Python 3",
   "language": "python",
   "name": "python3"
  },
  "language_info": {
   "codemirror_mode": {
    "name": "ipython",
    "version": 3
   },
   "file_extension": ".py",
   "mimetype": "text/x-python",
   "name": "python",
   "nbconvert_exporter": "python",
   "pygments_lexer": "ipython3",
   "version": "3.7.3"
  }
 },
 "nbformat": 4,
 "nbformat_minor": 2
}
